{
  "nbformat": 4,
  "nbformat_minor": 0,
  "metadata": {
    "colab": {
      "provenance": [],
      "authorship_tag": "ABX9TyO4rcH9I/kVSlQm3HFZlXkP",
      "include_colab_link": true
    },
    "kernelspec": {
      "name": "python3",
      "display_name": "Python 3"
    },
    "language_info": {
      "name": "python"
    }
  },
  "cells": [
    {
      "cell_type": "markdown",
      "metadata": {
        "id": "view-in-github",
        "colab_type": "text"
      },
      "source": [
        "<a href=\"https://colab.research.google.com/github/danmorrow55/Vanderbilt-DSF-Homework/blob/Import-of-Markdown-Practice/Markdown_Practice.ipynb\" target=\"_parent\"><img src=\"https://colab.research.google.com/assets/colab-badge.svg\" alt=\"Open In Colab\"/></a>"
      ]
    },
    {
      "cell_type": "code",
      "execution_count": null,
      "metadata": {
        "id": "IAHiXnYRRUp-"
      },
      "outputs": [],
      "source": [
        "# Markdown Practice in Jupyter\n",
        "## Header Title\n",
        "### More Detailed Description\n",
        "\n",
        "## Header Title #2\n",
        "### Additional Description"
      ]
    }
  ]
}